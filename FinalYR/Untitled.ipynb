{
 "cells": [
  {
   "cell_type": "code",
   "execution_count": 4,
   "id": "c470d973",
   "metadata": {},
   "outputs": [
    {
     "ename": "SyntaxError",
     "evalue": "invalid syntax (57218981.py, line 2)",
     "output_type": "error",
     "traceback": [
      "\u001b[1;36m  Input \u001b[1;32mIn [4]\u001b[1;36m\u001b[0m\n\u001b[1;33m    for(Passenger_Count=1,Passenger_Count<=No_Of_Passengers,Passenger_Count=Passenger_Count+1):\u001b[0m\n\u001b[1;37m                       ^\u001b[0m\n\u001b[1;31mSyntaxError\u001b[0m\u001b[1;31m:\u001b[0m invalid syntax\n"
     ]
    }
   ],
   "source": [
    "No_Of_Passengers=5\n",
    "for(Passenger_Count=1,Passenger_Count<=No_Of_Passengers,Passenger_Count=Passenger_Count+1):\n",
    "    display \"Immigration check done for passenger,\", Passenger_Count\n",
    "end-for"
   ]
  },
  {
   "cell_type": "code",
   "execution_count": 5,
   "id": "2d2454b8",
   "metadata": {},
   "outputs": [
    {
     "ename": "SyntaxError",
     "evalue": "invalid syntax (2944444088.py, line 1)",
     "output_type": "error",
     "traceback": [
      "\u001b[1;36m  Input \u001b[1;32mIn [5]\u001b[1;36m\u001b[0m\n\u001b[1;33m    display \"Immigration check done for passenger,\"\u001b[0m\n\u001b[1;37m            ^\u001b[0m\n\u001b[1;31mSyntaxError\u001b[0m\u001b[1;31m:\u001b[0m invalid syntax\n"
     ]
    }
   ],
   "source": [
    "display \"Immigration check done for passenger,\""
   ]
  },
  {
   "cell_type": "code",
   "execution_count": 2,
   "id": "b8bd1840",
   "metadata": {},
   "outputs": [
    {
     "name": "stdout",
     "output_type": "stream",
     "text": [
      "what is your name? g\n",
      "the length is 1\n"
     ]
    }
   ],
   "source": [
    "a=len(input(\"what is your name? \"))\n",
    "print(f\"the length is {a}\")"
   ]
  },
  {
   "cell_type": "code",
   "execution_count": 10,
   "id": "cb9e7d1e",
   "metadata": {},
   "outputs": [
    {
     "name": "stdout",
     "output_type": "stream",
     "text": [
      "3\n"
     ]
    }
   ],
   "source": [
    "a=\"12\"\n",
    "print(int(a[0])+int(a[1]))"
   ]
  },
  {
   "cell_type": "code",
   "execution_count": 9,
   "id": "9f06f125",
   "metadata": {},
   "outputs": [
    {
     "name": "stdout",
     "output_type": "stream",
     "text": [
      "the length is True\n"
     ]
    }
   ],
   "source": [
    "a=True\n",
    "print(\"the length is\",a)"
   ]
  },
  {
   "cell_type": "code",
   "execution_count": 12,
   "id": "0c0a8624",
   "metadata": {},
   "outputs": [
    {
     "name": "stdout",
     "output_type": "stream",
     "text": [
      "enter your age: 90\n",
      "you have 3650days,520weeks and 120 months left\n"
     ]
    }
   ],
   "source": [
    "b=int (input(\"enter your age: \"))\n",
    "\n",
    "age_limit=100-b\n",
    "x=age_limit*12\n",
    "y=age_limit*52\n",
    "z=age_limit*365\n",
    "\n",
    "print(f\"you have {z}days,{y}weeks and {x} months left\")"
   ]
  },
  {
   "cell_type": "code",
   "execution_count": 18,
   "id": "b56d78a1",
   "metadata": {},
   "outputs": [
    {
     "ename": "SyntaxError",
     "evalue": "invalid syntax (2676593801.py, line 9)",
     "output_type": "error",
     "traceback": [
      "\u001b[1;36m  Input \u001b[1;32mIn [18]\u001b[1;36m\u001b[0m\n\u001b[1;33m    elseif tip==12:\u001b[0m\n\u001b[1;37m           ^\u001b[0m\n\u001b[1;31mSyntaxError\u001b[0m\u001b[1;31m:\u001b[0m invalid syntax\n"
     ]
    }
   ],
   "source": [
    "kaasu=int (input(\"What was your total bill? \"))\n",
    "tip=int (input(\"What percentage of tip would you like to give? 10 or 12 or 15? \"))\n",
    "\n",
    "peo=int(input(\"How many people should split the bill? \"))\n",
    "\n",
    "if tip == 10:\n",
    "    percent=kaasu*(10/100)\n",
    "    print(percent)\n",
    "elseif tip==12:\n",
    "    percent=kaasu*(12/100)\n",
    "elseif tip==15:\n",
    "    percent=kaasu*(15/100)\n",
    "else:\n",
    "    print(\"Enter valid percentage\")"
   ]
  },
  {
   "cell_type": "code",
   "execution_count": 4,
   "id": "a2ea6888",
   "metadata": {},
   "outputs": [
    {
     "name": "stdout",
     "output_type": "stream",
     "text": [
      "Enter your height: 180\n",
      "you can ride\n",
      "Enter your age: 18\n",
      "you have to pay $8\n",
      "do u need photo? y or ny\n",
      "your bill is $11\n"
     ]
    }
   ],
   "source": [
    "n = int(input(\"Enter your height: \"))\n",
    "bill = 0\n",
    "if n>120:\n",
    "    print(\"you can ride\")\n",
    "    age = int(input(\"Enter your age: \"))\n",
    "    if age<12:\n",
    "        print(\"you have to pay $5\")\n",
    "        bill=5 \n",
    "    elif age<=18:\n",
    "        print(\"you have to pay $8\")\n",
    "        bill=8\n",
    "    else:\n",
    "        print(\"you have to pay $12\")\n",
    "        bill=12\n",
    "    photo= input(\"do u need photo? y or n\")\n",
    "    if photo==\"y\":\n",
    "        bill+=3\n",
    "        print(f\"your bill is ${bill}\")\n",
    "        \n",
    "else:\n",
    "    print(\"you cant ride\")\n",
    "    "
   ]
  },
  {
   "cell_type": "code",
   "execution_count": 1,
   "id": "3862610c",
   "metadata": {},
   "outputs": [
    {
     "name": "stderr",
     "output_type": "stream",
     "text": [
      "Matplotlib is building the font cache; this may take a moment.\n"
     ]
    }
   ],
   "source": [
    "import pandas as pd\n",
    "import numpy as np\n",
    "import matplotlib.pyplot as plt\n",
    "import sklearn"
   ]
  },
  {
   "cell_type": "code",
   "execution_count": 3,
   "id": "eb0ba7db",
   "metadata": {},
   "outputs": [],
   "source": [
    "from flask import Flask"
   ]
  }
 ],
 "metadata": {
  "kernelspec": {
   "display_name": "Python 3 (ipykernel)",
   "language": "python",
   "name": "python3"
  },
  "language_info": {
   "codemirror_mode": {
    "name": "ipython",
    "version": 3
   },
   "file_extension": ".py",
   "mimetype": "text/x-python",
   "name": "python",
   "nbconvert_exporter": "python",
   "pygments_lexer": "ipython3",
   "version": "3.10.2"
  }
 },
 "nbformat": 4,
 "nbformat_minor": 5
}
